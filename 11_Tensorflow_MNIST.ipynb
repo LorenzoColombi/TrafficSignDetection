{
 "cells": [
  {
   "cell_type": "markdown",
   "metadata": {
    "id": "_ZE5uf94sLr7"
   },
   "source": [
    "## Handwritten Image Detection with Keras using MNIST data\n",
    "\n",
    "In this exercise we will work with image data: specifically the famous MNIST data set.  This data set contains 70,000 images of handwritten digits in grayscale (0=black, 255 = white), 60,000 for training and 10,000 for testing.  The images are 28 pixels by 28 pixels for a total of 784 pixels.  This is quite small by image standards.  Also, the images are well centered and isolated.  This makes this problem solvable with standard fully connected neural nets without too much pre-work."
   ]
  },
  {
   "cell_type": "markdown",
   "metadata": {
    "id": "nzlm8TewsLr9"
   },
   "source": [
    "In the first part of this notebook, we will walk you through loading in the data, building a fully connected network, and training it.  Then it will be your turn to implement LeNet-5, try other different models and see if you can improve performance"
   ]
  },
  {
   "cell_type": "code",
   "execution_count": null,
   "metadata": {
    "id": "xBc8G6T3sLr-"
   },
   "outputs": [],
   "source": [
    "# Preliminaries\n",
    "\n",
    "from tensorflow import keras\n",
    "from tensorflow.keras.datasets import mnist # easy loading of MNIST\n",
    "from tensorflow.keras.models import Sequential\n",
    "from tensorflow.keras.layers import Dense, Dropout\n",
    "from tensorflow.keras.optimizers import RMSprop\n",
    "\n",
    "import numpy as np\n",
    "import matplotlib.pyplot as plt\n",
    "%matplotlib inline"
   ]
  },
  {
   "cell_type": "markdown",
   "metadata": {
    "collapsed": true,
    "id": "wqU5JJUQsLsC"
   },
   "source": [
    "Let's explore the dataset a little bit"
   ]
  },
  {
   "cell_type": "code",
   "execution_count": null,
   "metadata": {
    "colab": {
     "base_uri": "https://localhost:8080/"
    },
    "id": "yAwg6lkVsLsD",
    "outputId": "75cf0d13-0f10-498c-b420-2e31f6637dad"
   },
   "outputs": [],
   "source": [
    "# Load the data, shuffled and split between train and test sets\n",
    "(x_train, y_train), (x_test, y_test) = mnist.load_data()"
   ]
  },
  {
   "cell_type": "code",
   "execution_count": null,
   "metadata": {
    "colab": {
     "base_uri": "https://localhost:8080/"
    },
    "id": "cShCyX_9sLsG",
    "outputId": "96c7e557-2220-45c0-9f1a-27578cc9715b"
   },
   "outputs": [],
   "source": [
    "x_train[0].shape"
   ]
  },
  {
   "cell_type": "code",
   "execution_count": 8,
   "metadata": {
    "colab": {
     "base_uri": "https://localhost:8080/"
    },
    "id": "IQS2u3h9sLsO",
    "outputId": "d7eaa3cc-860c-45e2-d4d7-47c6fa262cff"
   },
   "outputs": [
    {
     "data": {
      "text/plain": [
       "array([[  0,   0,   0,   0,   0,   0,   0,   0,   0,   0,   0,   0,   0,\n",
       "          0,   0,   0,   0,   0,   0,   0,   0,   0,   0,   0,   0,   0,\n",
       "          0,   0],\n",
       "       [  0,   0,   0,   0,   0,   0,   0,   0,   0,   0,   0,   0,   0,\n",
       "          0,   0,   0,   0,   0,   0,   0,   0,   0,   0,   0,   0,   0,\n",
       "          0,   0],\n",
       "       [  0,   0,   0,   0,   0,   0,   0,   0,   0,   0,   0,   0,   0,\n",
       "          0,   0,   0,   0,   0,   0,   0,   0,   0,   0,   0,   0,   0,\n",
       "          0,   0],\n",
       "       [  0,   0,   0,   0,   0,   0,   0,   0,   0,   0,   0,   0,   0,\n",
       "          0,   0,   0,   0,   0,   0,   0,   0,   0,   0,   0,   0,   0,\n",
       "          0,   0],\n",
       "       [  0,   0,   0,   0,   0,   0,   0,   0,   0,   0,   0,   0,   0,\n",
       "          0,   0,   0,   0,   0,   0,   0,   0,   0,   0,   0,   0,   0,\n",
       "          0,   0],\n",
       "       [  0,   0,   0,   0,   0,   0,   0,   0,   0,   0,   0,  87, 138,\n",
       "        170, 253, 201, 244, 212, 222, 138,  86,  22,   0,   0,   0,   0,\n",
       "          0,   0],\n",
       "       [  0,   0,   0,   0,   0,   0,   0,   0,   0,   0,  95, 253, 252,\n",
       "        252, 252, 252, 253, 252, 252, 252, 252, 245,  80,   0,   0,   0,\n",
       "          0,   0],\n",
       "       [  0,   0,   0,   0,   0,   0,   0,   0,   0,  68, 246, 205,  69,\n",
       "         69,  69,  69,  69,  69,  69,  69, 205, 253, 240,  50,   0,   0,\n",
       "          0,   0],\n",
       "       [  0,   0,   0,   0,   0,   0,   0,   0,   0, 187, 252, 218,  34,\n",
       "          0,   0,   0,   0,   0,   0,   0, 116, 253, 252,  69,   0,   0,\n",
       "          0,   0],\n",
       "       [  0,   0,   0,   0,   0,   0,   0,   0, 116, 248, 252, 253,  92,\n",
       "          0,   0,   0,   0,   0,   0,  95, 230, 253, 157,   6,   0,   0,\n",
       "          0,   0],\n",
       "       [  0,   0,   0,   0,   0,   0,   0,   0, 116, 249, 253, 189,  42,\n",
       "          0,   0,   0,   0,  36, 170, 253, 243, 158,   0,   0,   0,   0,\n",
       "          0,   0],\n",
       "       [  0,   0,   0,   0,   0,   0,   0,   0,   0, 133, 252, 245, 140,\n",
       "         34,   0,   0,  57, 219, 252, 235,  60,   0,   0,   0,   0,   0,\n",
       "          0,   0],\n",
       "       [  0,   0,   0,   0,   0,   0,   0,   0,   0,  25, 205, 253, 252,\n",
       "        234, 184, 184, 253, 240, 100,  44,   0,   0,   0,   0,   0,   0,\n",
       "          0,   0],\n",
       "       [  0,   0,   0,   0,   0,   0,   0,   0,   0,   0,  21, 161, 219,\n",
       "        252, 252, 252, 234,  37,   0,   0,   0,   0,   0,   0,   0,   0,\n",
       "          0,   0],\n",
       "       [  0,   0,   0,   0,   0,   0,   0,   0,   0,   0,   0,  11, 203,\n",
       "        252, 252, 252, 251, 135,   0,   0,   0,   0,   0,   0,   0,   0,\n",
       "          0,   0],\n",
       "       [  0,   0,   0,   0,   0,   0,   0,   0,   0,   9,  76, 255, 253,\n",
       "        205, 168, 220, 255, 253, 137,   5,   0,   0,   0,   0,   0,   0,\n",
       "          0,   0],\n",
       "       [  0,   0,   0,   0,   0,   0,   0,   0,   0, 114, 252, 249, 132,\n",
       "         25,   0,   0, 180, 252, 252,  45,   0,   0,   0,   0,   0,   0,\n",
       "          0,   0],\n",
       "       [  0,   0,   0,   0,   0,   0,   0,   0,  51, 220, 252, 199,   0,\n",
       "          0,   0,   0,  38, 186, 252, 154,   7,   0,   0,   0,   0,   0,\n",
       "          0,   0],\n",
       "       [  0,   0,   0,   0,   0,   0,   0,   0, 184, 252, 252,  21,   0,\n",
       "          0,   0,   0,   0,  67, 252, 252,  22,   0,   0,   0,   0,   0,\n",
       "          0,   0],\n",
       "       [  0,   0,   0,   0,   0,   0,   0,   0, 184, 252, 200,   0,   0,\n",
       "          0,   0,   0,   0,  47, 252, 252,  22,   0,   0,   0,   0,   0,\n",
       "          0,   0],\n",
       "       [  0,   0,   0,   0,   0,   0,   0,   0, 185, 253, 201,   0,   0,\n",
       "          0,   0,   0,   3, 118, 253, 245,  21,   0,   0,   0,   0,   0,\n",
       "          0,   0],\n",
       "       [  0,   0,   0,   0,   0,   0,   0,   0, 163, 252, 252,   0,   0,\n",
       "          0,   0,   0,  97, 252, 252,  87,   0,   0,   0,   0,   0,   0,\n",
       "          0,   0],\n",
       "       [  0,   0,   0,   0,   0,   0,   0,   0,  51, 240, 252, 123,  70,\n",
       "         70, 112, 184, 222, 252, 170,  13,   0,   0,   0,   0,   0,   0,\n",
       "          0,   0],\n",
       "       [  0,   0,   0,   0,   0,   0,   0,   0,   0, 165, 252, 253, 252,\n",
       "        252, 252, 252, 245, 139,  13,   0,   0,   0,   0,   0,   0,   0,\n",
       "          0,   0],\n",
       "       [  0,   0,   0,   0,   0,   0,   0,   0,   0,   9,  75, 253, 252,\n",
       "        221, 137, 137,  21,   0,   0,   0,   0,   0,   0,   0,   0,   0,\n",
       "          0,   0],\n",
       "       [  0,   0,   0,   0,   0,   0,   0,   0,   0,   0,   0,   0,   0,\n",
       "          0,   0,   0,   0,   0,   0,   0,   0,   0,   0,   0,   0,   0,\n",
       "          0,   0],\n",
       "       [  0,   0,   0,   0,   0,   0,   0,   0,   0,   0,   0,   0,   0,\n",
       "          0,   0,   0,   0,   0,   0,   0,   0,   0,   0,   0,   0,   0,\n",
       "          0,   0],\n",
       "       [  0,   0,   0,   0,   0,   0,   0,   0,   0,   0,   0,   0,   0,\n",
       "          0,   0,   0,   0,   0,   0,   0,   0,   0,   0,   0,   0,   0,\n",
       "          0,   0]], dtype=uint8)"
      ]
     },
     "execution_count": 8,
     "metadata": {},
     "output_type": "execute_result"
    }
   ],
   "source": [
    "#Let's just look at a particular example to see what is inside\n",
    "\n",
    "x_train[333]  ## Just a 28 x 28 numpy array of ints from 0 to 255"
   ]
  },
  {
   "cell_type": "code",
   "execution_count": 9,
   "metadata": {
    "colab": {
     "base_uri": "https://localhost:8080/"
    },
    "id": "4RevbjWHsLsT",
    "outputId": "774b4986-bdc1-4ad3-b8fd-f8b916c9a922"
   },
   "outputs": [
    {
     "data": {
      "text/plain": [
       "8"
      ]
     },
     "execution_count": 9,
     "metadata": {},
     "output_type": "execute_result"
    }
   ],
   "source": [
    "# What is the corresponding label in the training set?\n",
    "y_train[333]"
   ]
  },
  {
   "cell_type": "code",
   "execution_count": 10,
   "metadata": {
    "colab": {
     "base_uri": "https://localhost:8080/",
     "height": 282
    },
    "id": "jtw7TcbdsLsX",
    "outputId": "0af2b399-2fa6-4203-aca2-2611a2cf200a"
   },
   "outputs": [
    {
     "data": {
      "text/plain": [
       "<matplotlib.image.AxesImage at 0x23f62f1ff10>"
      ]
     },
     "execution_count": 10,
     "metadata": {},
     "output_type": "execute_result"
    },
    {
     "data": {
      "image/png": "[encoded data removed]",
      "text/plain": [
       "<Figure size 432x288 with 1 Axes>"
      ]
     },
     "metadata": {
      "needs_background": "light"
     },
     "output_type": "display_data"
    }
   ],
   "source": [
    "# Let's see what this image actually looks like\n",
    "\n",
    "plt.imshow(x_train[333], cmap='Greys_r')"
   ]
  },
  {
   "cell_type": "code",
   "execution_count": 11,
   "metadata": {
    "colab": {
     "base_uri": "https://localhost:8080/"
    },
    "id": "yXZPkKrZsLse",
    "outputId": "51fae673-7cb1-4b0c-d96c-d1ed6b72c5b5"
   },
   "outputs": [
    {
     "name": "stdout",
     "output_type": "stream",
     "text": [
      "(60000, 28, 28) train samples\n",
      "(10000, 28, 28) test samples\n"
     ]
    }
   ],
   "source": [
    "# this is the shape of the np.array x_train\n",
    "# it is 3 dimensional.\n",
    "print(x_train.shape, 'train samples')\n",
    "print(x_test.shape, 'test samples')"
   ]
  },
  {
   "cell_type": "code",
   "execution_count": 12,
   "metadata": {
    "id": "Nca4dr_5sLsj"
   },
   "outputs": [],
   "source": [
    "## For our purposes, these images are just a vector of 784 inputs, so let's convert\n",
    "fc_x_train = x_train.reshape(len(x_train), 28*28)\n",
    "fc_x_test = x_test.reshape(len(x_test), 28*28)\n",
    "\n",
    "## Keras works with floats, so we must cast the numbers to floats\n",
    "fc_x_train = fc_x_train.astype('float32')\n",
    "fc_x_test = fc_x_test.astype('float32')\n",
    "\n",
    "## Normalize the inputs so they are between 0 and 1\n",
    "fc_x_train /= 255\n",
    "fc_x_test /= 255\n"
   ]
  },
  {
   "cell_type": "code",
   "execution_count": 13,
   "metadata": {
    "colab": {
     "base_uri": "https://localhost:8080/"
    },
    "id": "3ERx7gE_sLsm",
    "outputId": "49344342-c426-4ef7-a191-522847030e4a"
   },
   "outputs": [
    {
     "data": {
      "text/plain": [
       "array([0., 0., 0., 0., 0., 0., 0., 0., 1., 0.], dtype=float32)"
      ]
     },
     "execution_count": 13,
     "metadata": {},
     "output_type": "execute_result"
    }
   ],
   "source": [
    "# convert class vectors to binary class matrices\n",
    "num_classes = 10\n",
    "y_train = keras.utils.to_categorical(y_train, num_classes)\n",
    "y_test = keras.utils.to_categorical(y_test, num_classes)\n",
    "\n",
    "y_train[333]  # now the digit k is represented by a 1 in the kth entry (0-indexed) of the length 10 vector"
   ]
  },
  {
   "cell_type": "code",
   "execution_count": 14,
   "metadata": {
    "id": "ZOcyK8UqsLsr"
   },
   "outputs": [],
   "source": [
    "# We will build a model with two hidden layers of size 64\n",
    "# Fully connected inputs at each layer\n",
    "# We will use dropout of .2 to help regularize\n",
    "model_1 = Sequential()\n",
    "model_1.add(Dense(64, activation='relu', input_shape=(784,)))\n",
    "model_1.add(Dropout(0.2))\n",
    "model_1.add(Dense(64, activation='relu'))\n",
    "model_1.add(Dropout(0.2))\n",
    "model_1.add(Dense(10, activation='softmax'))"
   ]
  },
  {
   "cell_type": "code",
   "execution_count": 15,
   "metadata": {
    "colab": {
     "base_uri": "https://localhost:8080/"
    },
    "id": "ZLHPplBHsLsv",
    "outputId": "420181dd-61bf-4448-820c-c215c79c128d"
   },
   "outputs": [
    {
     "name": "stdout",
     "output_type": "stream",
     "text": [
      "Model: \"sequential\"\n",
      "_________________________________________________________________\n",
      " Layer (type)                Output Shape              Param #   \n",
      "=================================================================\n",
      " dense (Dense)               (None, 64)                50240     \n",
      "                                                                 \n",
      " dropout (Dropout)           (None, 64)                0         \n",
      "                                                                 \n",
      " dense_1 (Dense)             (None, 64)                4160      \n",
      "                                                                 \n",
      " dropout_1 (Dropout)         (None, 64)                0         \n",
      "                                                                 \n",
      " dense_2 (Dense)             (None, 10)                650       \n",
      "                                                                 \n",
      "=================================================================\n",
      "Total params: 55,050\n",
      "Trainable params: 55,050\n",
      "Non-trainable params: 0\n",
      "_________________________________________________________________\n"
     ]
    }
   ],
   "source": [
    "## Note that this model has a LOT of parameters\n",
    "model_1.summary()"
   ]
  },
  {
   "cell_type": "code",
   "execution_count": 16,
   "metadata": {
    "id": "mTL3ANg6sLsz"
   },
   "outputs": [],
   "source": [
    "# Let's compile the model\n",
    "learning_rate = .001\n",
    "model_1.compile(loss='categorical_crossentropy',\n",
    "              optimizer=RMSprop(learning_rate=learning_rate),\n",
    "              metrics=['accuracy'])\n",
    "# note that `categorical cross entropy` is the natural generalization \n",
    "# of the loss function we had in binary classification case, to multi class case"
   ]
  },
  {
   "cell_type": "code",
   "execution_count": 17,
   "metadata": {
    "colab": {
     "base_uri": "https://localhost:8080/"
    },
    "id": "l-xx7KQ_sLs3",
    "outputId": "4a1eb7f0-567a-4778-d209-7373d013ac3d"
   },
   "outputs": [
    {
     "name": "stdout",
     "output_type": "stream",
     "text": [
      "Epoch 1/30\n",
      "469/469 [==============================] - 2s 3ms/step - loss: 0.5212 - accuracy: 0.8431 - val_loss: 0.2027 - val_accuracy: 0.9400\n",
      "Epoch 2/30\n",
      "469/469 [==============================] - 1s 3ms/step - loss: 0.2539 - accuracy: 0.9252 - val_loss: 0.1501 - val_accuracy: 0.9527\n",
      "Epoch 3/30\n",
      "469/469 [==============================] - 1s 3ms/step - loss: 0.2007 - accuracy: 0.9402 - val_loss: 0.1254 - val_accuracy: 0.9622\n",
      "Epoch 4/30\n",
      "469/469 [==============================] - 1s 3ms/step - loss: 0.1766 - accuracy: 0.9467 - val_loss: 0.1158 - val_accuracy: 0.9652\n",
      "Epoch 5/30\n",
      "469/469 [==============================] - 1s 3ms/step - loss: 0.1533 - accuracy: 0.9544 - val_loss: 0.1104 - val_accuracy: 0.9674\n",
      "Epoch 6/30\n",
      "469/469 [==============================] - 1s 3ms/step - loss: 0.1438 - accuracy: 0.9567 - val_loss: 0.1057 - val_accuracy: 0.9690\n",
      "Epoch 7/30\n",
      "469/469 [==============================] - 1s 3ms/step - loss: 0.1323 - accuracy: 0.9602 - val_loss: 0.1039 - val_accuracy: 0.9704\n",
      "Epoch 8/30\n",
      "469/469 [==============================] - 1s 3ms/step - loss: 0.1255 - accuracy: 0.9621 - val_loss: 0.0975 - val_accuracy: 0.9722\n",
      "Epoch 9/30\n",
      "469/469 [==============================] - 1s 3ms/step - loss: 0.1204 - accuracy: 0.9648 - val_loss: 0.0986 - val_accuracy: 0.9737\n",
      "Epoch 10/30\n",
      "469/469 [==============================] - 1s 3ms/step - loss: 0.1140 - accuracy: 0.9663 - val_loss: 0.1012 - val_accuracy: 0.9725\n",
      "Epoch 11/30\n",
      "469/469 [==============================] - 1s 3ms/step - loss: 0.1107 - accuracy: 0.9669 - val_loss: 0.0936 - val_accuracy: 0.9735\n",
      "Epoch 12/30\n",
      "469/469 [==============================] - 1s 3ms/step - loss: 0.1060 - accuracy: 0.9682 - val_loss: 0.0937 - val_accuracy: 0.9755\n",
      "Epoch 13/30\n",
      "469/469 [==============================] - 1s 3ms/step - loss: 0.1016 - accuracy: 0.9693 - val_loss: 0.0940 - val_accuracy: 0.9746\n",
      "Epoch 14/30\n",
      "469/469 [==============================] - 1s 3ms/step - loss: 0.0984 - accuracy: 0.9700 - val_loss: 0.0970 - val_accuracy: 0.9751\n",
      "Epoch 15/30\n",
      "469/469 [==============================] - 1s 3ms/step - loss: 0.0996 - accuracy: 0.9703 - val_loss: 0.0926 - val_accuracy: 0.9761\n",
      "Epoch 16/30\n",
      "469/469 [==============================] - 1s 3ms/step - loss: 0.0952 - accuracy: 0.9715 - val_loss: 0.0930 - val_accuracy: 0.9758\n",
      "Epoch 17/30\n",
      "469/469 [==============================] - 1s 3ms/step - loss: 0.0953 - accuracy: 0.9713 - val_loss: 0.0967 - val_accuracy: 0.9761\n",
      "Epoch 18/30\n",
      "469/469 [==============================] - 1s 3ms/step - loss: 0.0915 - accuracy: 0.9729 - val_loss: 0.1019 - val_accuracy: 0.9747\n",
      "Epoch 19/30\n",
      "469/469 [==============================] - 1s 3ms/step - loss: 0.0919 - accuracy: 0.9727 - val_loss: 0.0982 - val_accuracy: 0.9760\n",
      "Epoch 20/30\n",
      "469/469 [==============================] - 1s 3ms/step - loss: 0.0895 - accuracy: 0.9729 - val_loss: 0.0970 - val_accuracy: 0.9758\n",
      "Epoch 21/30\n",
      "469/469 [==============================] - 1s 3ms/step - loss: 0.0871 - accuracy: 0.9745 - val_loss: 0.0993 - val_accuracy: 0.9762\n",
      "Epoch 22/30\n",
      "469/469 [==============================] - 1s 2ms/step - loss: 0.0905 - accuracy: 0.9742 - val_loss: 0.0982 - val_accuracy: 0.9750\n",
      "Epoch 23/30\n",
      "469/469 [==============================] - 1s 3ms/step - loss: 0.0847 - accuracy: 0.9742 - val_loss: 0.0994 - val_accuracy: 0.9760\n",
      "Epoch 24/30\n",
      "469/469 [==============================] - 1s 2ms/step - loss: 0.0845 - accuracy: 0.9747 - val_loss: 0.0994 - val_accuracy: 0.9767\n",
      "Epoch 25/30\n",
      "469/469 [==============================] - 1s 3ms/step - loss: 0.0825 - accuracy: 0.9755 - val_loss: 0.1041 - val_accuracy: 0.9780\n",
      "Epoch 26/30\n",
      "469/469 [==============================] - 1s 3ms/step - loss: 0.0834 - accuracy: 0.9758 - val_loss: 0.1018 - val_accuracy: 0.9767\n",
      "Epoch 27/30\n",
      "469/469 [==============================] - 1s 3ms/step - loss: 0.0812 - accuracy: 0.9757 - val_loss: 0.1031 - val_accuracy: 0.9759\n",
      "Epoch 28/30\n",
      "469/469 [==============================] - 1s 2ms/step - loss: 0.0798 - accuracy: 0.9766 - val_loss: 0.1030 - val_accuracy: 0.9767\n",
      "Epoch 29/30\n",
      "469/469 [==============================] - 1s 3ms/step - loss: 0.0794 - accuracy: 0.9766 - val_loss: 0.1075 - val_accuracy: 0.9754\n",
      "Epoch 30/30\n",
      "469/469 [==============================] - 1s 3ms/step - loss: 0.0793 - accuracy: 0.9764 - val_loss: 0.1055 - val_accuracy: 0.9780\n"
     ]
    }
   ],
   "source": [
    "# And now let's fit.\n",
    "\n",
    "batch_size = 128  # mini-batch with 128 examples\n",
    "epochs = 30\n",
    "history_1 = model_1.fit(\n",
    "    fc_x_train, y_train,\n",
    "    batch_size=batch_size,\n",
    "    epochs=epochs,\n",
    "    verbose=1,\n",
    "    validation_data=(fc_x_test, y_test)) # this for plotting the loss curve"
   ]
  },
  {
   "cell_type": "code",
   "execution_count": 18,
   "metadata": {
    "colab": {
     "base_uri": "https://localhost:8080/"
    },
    "id": "0mHUQ0ggsLs9",
    "outputId": "4eb376b4-c72a-4b8e-e984-a5d53e4c304b"
   },
   "outputs": [
    {
     "name": "stdout",
     "output_type": "stream",
     "text": [
      "Test loss: 0.10546441376209259\n",
      "Test accuracy: 0.9779999852180481\n"
     ]
    }
   ],
   "source": [
    "## We will use Keras evaluate function to evaluate performance on the test set\n",
    "\n",
    "score_1 = model_1.evaluate(fc_x_test, y_test, verbose=0)\n",
    "print('Test loss:', score_1[0])\n",
    "print('Test accuracy:', score_1[1])"
   ]
  },
  {
   "cell_type": "code",
   "execution_count": 19,
   "metadata": {
    "colab": {
     "base_uri": "https://localhost:8080/",
     "height": 390
    },
    "id": "KMN2yq5SsLtC",
    "outputId": "7fb04563-6d6a-40d8-ae92-15354feeb54e"
   },
   "outputs": [
    {
     "data": {
      "image/png": "[encoded data removed]",
      "text/plain": [
       "<Figure size 864x432 with 2 Axes>"
      ]
     },
     "metadata": {
      "needs_background": "light"
     },
     "output_type": "display_data"
    }
   ],
   "source": [
    "def plot_loss_accuracy(history):\n",
    "    fig = plt.figure(figsize=(12, 6))\n",
    "    ax = fig.add_subplot(1, 2, 1)\n",
    "    ax.plot(history.history[\"loss\"],'r-x', label=\"Train Loss\")\n",
    "    ax.plot(history.history[\"val_loss\"],'b-x', label=\"Validation Loss\")\n",
    "    ax.legend()\n",
    "    ax.set_title('cross_entropy loss')\n",
    "    ax.grid(True)\n",
    "\n",
    "\n",
    "    ax = fig.add_subplot(1, 2, 2)\n",
    "    ax.plot(history.history[\"accuracy\"],'r-x', label=\"Train Accuracy\")\n",
    "    ax.plot(history.history[\"val_accuracy\"],'b-x', label=\"Validation Accuracy\")\n",
    "    ax.legend()\n",
    "    ax.set_title('accuracy')\n",
    "    ax.grid(True)\n",
    "    \n",
    "\n",
    "plot_loss_accuracy(history_1)"
   ]
  },
  {
   "cell_type": "markdown",
   "metadata": {
    "id": "EelVfhh8sLtM"
   },
   "source": [
    "This is reasonably good performance, but we can do even better!  Next you will build an even bigger network and compare the performance."
   ]
  },
  {
   "cell_type": "markdown",
   "metadata": {
    "id": "-4AFzbVosLtN"
   },
   "source": [
    "## Exercise\n",
    "### Your Turn: Build your own model\n",
    "Use the Keras \"Sequential\" functionality to build `model_2` with the following specifications:\n",
    "\n",
    "1. Two hidden layers.\n",
    "2. First hidden layer of size 400 and second of size 300\n",
    "3. Dropout of .4 at each layer\n",
    "4. How many parameters does your model have?  How does it compare with the previous model?\n",
    "4. Train this model for 20 epochs with RMSProp at a learning rate of .001 and a batch size of 128\n",
    "\n",
    "\n"
   ]
  },
  {
   "cell_type": "code",
   "execution_count": 20,
   "metadata": {
    "id": "V3DPbaD4sLtO"
   },
   "outputs": [
    {
     "ename": "SyntaxError",
     "evalue": "invalid syntax (Temp/ipykernel_3560/2072850420.py, line 25)",
     "output_type": "error",
     "traceback": [
      "\u001b[1;36m  File \u001b[1;32m\"C:\\Users\\loren\\AppData\\Local\\Temp/ipykernel_3560/2072850420.py\"\u001b[1;36m, line \u001b[1;32m25\u001b[0m\n\u001b[1;33m    print('Test loss:', ? )\u001b[0m\n\u001b[1;37m                        ^\u001b[0m\n\u001b[1;31mSyntaxError\u001b[0m\u001b[1;31m:\u001b[0m invalid syntax\n"
     ]
    }
   ],
   "source": [
    "### Build your model here\n",
    "model3 = Sequential([\n",
    "                           Conv2D(6,(5,5),padding=\"same\",input_shape=x_test.shape[1:]),\n",
    "                     AveragePooling2D((2,2)),\n",
    "                     Conv2D(16,(5,5),stride=(2,2)),\n",
    "                     AveragePooling2D((2,2)),\n",
    "                     Flatten(),\n",
    "                     Dense(120,activation=\"relu\"),\n",
    "                     Dense(84,activation=\"relu\"),\n",
    "                     Dense(10,activation=\"softmax\")\n",
    "])\n",
    "\n",
    "### Print its summary\n",
    "\n",
    "batch_size = 128  # mini-batch with 128 examples\n",
    "epochs = 30\n",
    "learning_rate = .001\n",
    "\n",
    "\n",
    "### Compile it. Remember to set optimizer and learning rate\n",
    "\n",
    "\n",
    "### Fit and Evaluate the model\n",
    "print('')\n",
    "print('Test loss:', ? )\n",
    "print('Test accuracy:', ?)"
   ]
  },
  {
   "cell_type": "code",
   "execution_count": null,
   "metadata": {
    "id": "eaNIAuIsypw9"
   },
   "outputs": [],
   "source": [
    "plot_loss_accuracy(history_2)"
   ]
  },
  {
   "cell_type": "markdown",
   "metadata": {
    "id": "p_qtHM5aw_If"
   },
   "source": [
    "### Your Turn: Build your own model\n",
    "Implement LeNet-5 in `model_3`.\n",
    "\n",
    "How many parameters does your model have?  How does it compare with the previous model?"
   ]
  },
  {
   "cell_type": "code",
   "execution_count": null,
   "metadata": {
    "colab": {
     "base_uri": "https://localhost:8080/"
    },
    "id": "vQtMNT4JxPx0",
    "outputId": "90a22da8-f65b-418e-e178-0cb9b12c0a38"
   },
   "outputs": [
    {
     "name": "stdout",
     "output_type": "stream",
     "text": [
      "Model: \"sequential_6\"\n",
      "_________________________________________________________________\n",
      " Layer (type)                Output Shape              Param #   \n",
      "=================================================================\n",
      " conv2d_11 (Conv2D)          (None, 28, 28, 6)         156       \n",
      "                                                                 \n",
      " average_pooling2d_11 (Avera  (None, 14, 14, 6)        0         \n",
      " gePooling2D)                                                    \n",
      "                                                                 \n",
      " conv2d_12 (Conv2D)          (None, 5, 5, 16)          2416      \n",
      "                                                                 \n",
      " average_pooling2d_12 (Avera  (None, 2, 2, 16)         0         \n",
      " gePooling2D)                                                    \n",
      "                                                                 \n",
      " flatten_5 (Flatten)         (None, 64)                0         \n",
      "                                                                 \n",
      " dense_18 (Dense)            (None, 120)               7800      \n",
      "                                                                 \n",
      " dense_19 (Dense)            (None, 84)                10164     \n",
      "                                                                 \n",
      " dense_20 (Dense)            (None, 10)                850       \n",
      "                                                                 \n",
      "=================================================================\n",
      "Total params: 21,386\n",
      "Trainable params: 21,386\n",
      "Non-trainable params: 0\n",
      "_________________________________________________________________\n"
     ]
    }
   ],
   "source": [
    "### Build your model here\n",
    "from keras.layers import Conv2D, AveragePooling2D, Flatten\n",
    "### Build your model here\n",
    "model_3 = keras.Sequential()\n",
    "\n",
    "model_3.add(Conv2D(filters=6, kernel_size=(5, 5), strides = (1,1), activation='relu', input_shape=(32,32,1)))\n",
    "model_3.add(AveragePooling2D(pool_size = 2, strides = 2))\n",
    "model_3.add(Conv2D(filters=16, kernel_size=(5, 5), strides = 2, activation='relu'))\n",
    "model_3.add(AveragePooling2D(pool_size = 2, strides = 2))\n",
    "model_3.add(Flatten())\n",
    "model_3.add(Dense(units=120, activation='relu'))\n",
    "model_3.add(Dense(units=84, activation='relu'))\n",
    "model_3.add(Dense(units=10, activation = 'softmax'))\n",
    "model_3.summary()\n",
    "\n",
    "\n",
    "### Print its summary\n"
   ]
  },
  {
   "cell_type": "code",
   "execution_count": null,
   "metadata": {
    "colab": {
     "base_uri": "https://localhost:8080/",
     "height": 318
    },
    "id": "-94Erd_NyGCA",
    "outputId": "253c5cbe-a695-42f4-a012-2e1561e33988"
   },
   "outputs": [
    {
     "name": "stdout",
     "output_type": "stream",
     "text": [
      "(60000, 32, 32, 1) train samples\n",
      "(10000, 32, 32, 1) test samples\n"
     ]
    },
    {
     "data": {
      "text/plain": [
       "<matplotlib.image.AxesImage at 0x7f493d615850>"
      ]
     },
     "execution_count": 21,
     "metadata": {},
     "output_type": "execute_result"
    },
    {
     "data": {
      "image/png": "[encoded data removed]",
      "text/plain": [
       "<Figure size 432x288 with 1 Axes>"
      ]
     },
     "metadata": {
      "needs_background": "light"
     },
     "output_type": "display_data"
    }
   ],
   "source": [
    "## prepare the images\n",
    "# Conv2D accept input of the form (batch, rows, cols, channels) -> we need to add a new column to x_train and x_test\n",
    "# See https://keras.io/layers/convolutional/ for more details\n",
    "# Reshape the training and test set\n",
    "ln_x_train = x_train.reshape(x_train.shape[0], 28, 28, 1) # <- the reshape is necessary as Conv2D layer takes as input examples that are a matrix with a cell for each pixel and each pixel is an array \n",
    "ln_x_test = x_test.reshape(x_test.shape[0], 28, 28, 1)    #    containing information about each channel of the image. So, wih length 1 for greyscale, 3 for RGB, 4 for CMYK, etc.\n",
    "\n",
    "# Padding the images by 2 pixels since in the paper input images were 32x32\n",
    "ln_x_train = np.pad(ln_x_train, ((0,0),(2,2),(2,2),(0,0)), 'constant')\n",
    "#                             padding at the beginning and end of the first dimension -> 60000 examples\n",
    "#                                   padding for the second dimension (we are here in the matrix) -> 2 pixels at the beginning and at the end of each row\n",
    "#                                          padding for the second dimension (we are here in the matrix) -> 2 pixels at the beginning and at the end of each column\n",
    "#                                                   padding for the number of channel\n",
    "ln_x_test = np.pad(ln_x_test, ((0,0),(2,2),(2,2),(0,0)), 'constant')\n",
    "\n",
    "## Keras works with floats, so we must cast the numbers to floats\n",
    "ln_x_train = ln_x_train.astype('float32')\n",
    "ln_x_test = ln_x_test.astype('float32')\n",
    "\n",
    "## Normalize the inputs so they are between 0 and 1\n",
    "ln_x_train /= 255\n",
    "ln_x_test /= 255\n",
    "\n",
    "# this is the shape of the np.array ln_x_train\n",
    "# it is 3 dimensional.\n",
    "print(ln_x_train.shape, 'train samples')\n",
    "print(ln_x_test.shape, 'test samples')\n",
    "\n",
    "#Visualizing the data\n",
    "plt.imshow(ln_x_train[333,:,:,0], cmap='Greys_r')"
   ]
  },
  {
   "cell_type": "code",
   "execution_count": null,
   "metadata": {
    "id": "IPF1nwsV2MD_"
   },
   "outputs": [],
   "source": [
    "model_3.compile(loss='categorical_crossentropy',\n",
    "              optimizer='adam',  # use of Adam here\n",
    "              metrics=['accuracy'])"
   ]
  },
  {
   "cell_type": "code",
   "execution_count": null,
   "metadata": {
    "colab": {
     "base_uri": "https://localhost:8080/"
    },
    "id": "86-OlG2s52gL",
    "outputId": "84dd55bc-4b39-402c-bc56-9885d9add809"
   },
   "outputs": [
    {
     "name": "stdout",
     "output_type": "stream",
     "text": [
      "Epoch 1/10\n",
      "469/469 [==============================] - 25s 51ms/step - loss: 0.6063 - accuracy: 0.8201 - val_loss: 0.2235 - val_accuracy: 0.9305\n",
      "Epoch 2/10\n",
      "469/469 [==============================] - 24s 51ms/step - loss: 0.1939 - accuracy: 0.9418 - val_loss: 0.1563 - val_accuracy: 0.9496\n",
      "Epoch 3/10\n",
      "469/469 [==============================] - 24s 51ms/step - loss: 0.1431 - accuracy: 0.9573 - val_loss: 0.1266 - val_accuracy: 0.9629\n",
      "Epoch 4/10\n",
      "469/469 [==============================] - 24s 51ms/step - loss: 0.1172 - accuracy: 0.9646 - val_loss: 0.0955 - val_accuracy: 0.9721\n",
      "Epoch 5/10\n",
      "469/469 [==============================] - 24s 51ms/step - loss: 0.1029 - accuracy: 0.9689 - val_loss: 0.0849 - val_accuracy: 0.9734\n",
      "Epoch 6/10\n",
      "469/469 [==============================] - 24s 51ms/step - loss: 0.0899 - accuracy: 0.9728 - val_loss: 0.0876 - val_accuracy: 0.9738\n",
      "Epoch 7/10\n",
      "469/469 [==============================] - 24s 51ms/step - loss: 0.0799 - accuracy: 0.9758 - val_loss: 0.0722 - val_accuracy: 0.9782\n",
      "Epoch 8/10\n",
      "469/469 [==============================] - 24s 51ms/step - loss: 0.0742 - accuracy: 0.9772 - val_loss: 0.0706 - val_accuracy: 0.9775\n",
      "Epoch 9/10\n",
      "469/469 [==============================] - 24s 51ms/step - loss: 0.0662 - accuracy: 0.9799 - val_loss: 0.0815 - val_accuracy: 0.9738\n",
      "Epoch 10/10\n",
      "469/469 [==============================] - 24s 52ms/step - loss: 0.0629 - accuracy: 0.9808 - val_loss: 0.0618 - val_accuracy: 0.9816\n",
      "\n",
      "Test loss: 0.06179695576429367\n",
      "Test accuracy: 0.9815999865531921\n"
     ]
    }
   ],
   "source": [
    "batch_size = 128\n",
    "epochs = 10\n",
    "\n",
    "\n",
    "history_3 = model_3.fit(ln_x_train, y_train,\n",
    "                    batch_size=batch_size,\n",
    "                    epochs=epochs,\n",
    "                    verbose=1,\n",
    "                    validation_data=(ln_x_test, y_test))\n",
    "\n",
    "score_3 = model_3.evaluate(ln_x_test, y_test, verbose=0)\n",
    "print('')\n",
    "print('Test loss:', score_3[0])\n",
    "print('Test accuracy:', score_3[1])\n"
   ]
  },
  {
   "cell_type": "code",
   "execution_count": null,
   "metadata": {
    "colab": {
     "base_uri": "https://localhost:8080/",
     "height": 165
    },
    "id": "2iRg5H0gDwk8",
    "outputId": "2575f308-f2bc-4959-f3c8-dd57f872f754"
   },
   "outputs": [
    {
     "ename": "NameError",
     "evalue": "ignored",
     "output_type": "error",
     "traceback": [
      "\u001b[0;31m---------------------------------------------------------------------------\u001b[0m",
      "\u001b[0;31mNameError\u001b[0m                                 Traceback (most recent call last)",
      "\u001b[0;32m<ipython-input-24-43eee116037a>\u001b[0m in \u001b[0;36m<module>\u001b[0;34m()\u001b[0m\n\u001b[0;32m----> 1\u001b[0;31m \u001b[0mplot_loss_accuracy\u001b[0m\u001b[0;34m(\u001b[0m\u001b[0mhistory_3\u001b[0m\u001b[0;34m)\u001b[0m\u001b[0;34m\u001b[0m\u001b[0;34m\u001b[0m\u001b[0m\n\u001b[0m",
      "\u001b[0;31mNameError\u001b[0m: name 'plot_loss_accuracy' is not defined"
     ]
    }
   ],
   "source": [
    "plot_loss_accuracy(history_3)"
   ]
  },
  {
   "cell_type": "markdown",
   "metadata": {
    "id": "Douf1cHvsLtS"
   },
   "source": [
    "## SOLUTION"
   ]
  },
  {
   "cell_type": "markdown",
   "metadata": {
    "collapsed": true,
    "id": "yG8xUSCBsLtU"
   },
   "source": [
    "## Think about the following questions\n",
    "\n",
    "1) How do `model_1`, `model_2` and `model_3` compare?  Which do you prefer?  If you were going to put one into production, which would you choose and why?\n",
    "\n",
    "2) Compare the trajectories of the loss function on the training set and test set for each model?  How do they compare?  What does that suggest about each model?  Do the same for accuracy?  Which do you think is more meaningful, the loss or the accuracy?\n",
    "\n",
    "3) Suggest an improvement to one of the models (changing structure, learning rate, number of epochs, etc.) that you think will result in a better model.  Try it out below?  Did it improve the performance?"
   ]
  },
  {
   "cell_type": "code",
   "execution_count": null,
   "metadata": {
    "id": "Wi5A7tLisLtV"
   },
   "outputs": [],
   "source": []
  }
 ],
 "metadata": {
  "colab": {
   "collapsed_sections": [],
   "name": "11_Tensorflow_MNIST.ipynb",
   "provenance": []
  },
  "interpreter": {
   "hash": "df2200dee145ff7c6e232ad6818eb60138979836ff39ce2d211180956d5762a5"
  },
  "kernelspec": {
   "display_name": "Python 3",
   "language": "python",
   "name": "python3"
  },
  "language_info": {
   "codemirror_mode": {
    "name": "ipython",
    "version": 3
   },
   "file_extension": ".py",
   "mimetype": "text/x-python",
   "name": "python",
   "nbconvert_exporter": "python",
   "pygments_lexer": "ipython3",
   "version": "3.9.7"
  }
 },
 "nbformat": 4,
 "nbformat_minor": 1
}
